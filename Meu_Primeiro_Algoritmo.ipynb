{
  "nbformat": 4,
  "nbformat_minor": 0,
  "metadata": {
    "colab": {
      "provenance": []
    },
    "kernelspec": {
      "name": "python3",
      "display_name": "Python 3"
    },
    "language_info": {
      "name": "python"
    }
  },
  "cells": [
    {
      "cell_type": "code",
      "source": [
        "num1 = input('Digite o primeiro número: ')\n",
        "num2 = input('Digite o segundo número: ')\n",
        "\n",
        "num1_convert = int(num1)\n",
        "num2_convert = int(num2)\n",
        "\n",
        "if num1_convert > num2_convert:\n",
        "  print((num1_convert + num2_convert)/10)\n",
        "elif num1_convert < num2_convert:\n",
        "  print((num1_convert - num2_convert)*25)\n",
        "else:\n",
        "  print((num1_convert * num2_convert)/2)\n",
        "\n"
      ],
      "metadata": {
        "id": "cV9X28xzZkKW"
      },
      "execution_count": null,
      "outputs": []
    }
  ]
}